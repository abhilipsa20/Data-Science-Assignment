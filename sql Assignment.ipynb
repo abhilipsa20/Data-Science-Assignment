{
 "cells": [
  {
   "cell_type": "code",
   "execution_count": null,
   "id": "d9b04175",
   "metadata": {},
   "outputs": [],
   "source": [
    "1.SELECT ID FROM skills WHERE Technology IN ('DS', 'Tableau', 'Python', 'SQL') GROUP BY ID HAVING COUNT(DISTINCT Technology) = 4;"
   ]
  },
  {
   "cell_type": "code",
   "execution_count": null,
   "id": "7dc20f70",
   "metadata": {},
   "outputs": [],
   "source": [
    "2.SELECT pi.Pr_Id FROM Product_Info pi LEFT JOIN Product_Info_Likes pil ON pi.Pr_Id = pil.Pr_Id WHERE pil.Pr_Id IS NULL;"
   ]
  }
 ],
 "metadata": {
  "kernelspec": {
   "display_name": "Python 3 (ipykernel)",
   "language": "python",
   "name": "python3"
  },
  "language_info": {
   "codemirror_mode": {
    "name": "ipython",
    "version": 3
   },
   "file_extension": ".py",
   "mimetype": "text/x-python",
   "name": "python",
   "nbconvert_exporter": "python",
   "pygments_lexer": "ipython3",
   "version": "3.10.9"
  }
 },
 "nbformat": 4,
 "nbformat_minor": 5
}
