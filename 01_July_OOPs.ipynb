{
 "cells": [
  {
   "cell_type": "markdown",
   "id": "4381eb85-172e-499d-841c-7b8544ee8a77",
   "metadata": {},
   "source": [
    "# Assignment-1"
   ]
  },
  {
   "cell_type": "code",
   "execution_count": null,
   "id": "70b7c78b-bdcf-4711-ac62-83b6e4167f23",
   "metadata": {},
   "outputs": [],
   "source": [
    "1. What is the primary goal of Object-Oriented Programming (OOP)?\n",
    "Ans-The primary goal of Object-Oriented Programming (OOP) is to organize software design around data, or objects, rather than functions and logic. OOP aims to:\n",
    "\n",
    "Encapsulate Data and Behavior: Combine data (attributes) and behavior (methods) into a single unit called an object.\n",
    "Promote Reusability: Enable code reuse through mechanisms like inheritance and polymorphism.\n",
    "Enhance Maintainability: Make the codebase easier to manage, extend, and debug by structuring it into modular, self-contained objects.\n",
    "Model Real-World Entities: Facilitate modeling real-world entities and their interactions, making the design more intuitive and relatable."
   ]
  },
  {
   "cell_type": "code",
   "execution_count": null,
   "id": "e3332f2e-cb0b-4b87-b87b-d1f060439e11",
   "metadata": {},
   "outputs": [],
   "source": [
    "2. What is an object in Python?\n",
    "Ans-In Python, an object is an instance of a class. Objects are the fundamental building blocks of object-oriented programming in Python. Each object can contain:\n",
    "\n",
    "Attributes: These are variables that store data relevant to the object. They define the state or properties of the object.\n",
    "Methods: These are functions defined within a class that describe the behaviors or actions that the object can perform."
   ]
  },
  {
   "cell_type": "code",
   "execution_count": null,
   "id": "be95061b-22ea-4a2d-b24a-2d7f5d98c7b0",
   "metadata": {},
   "outputs": [],
   "source": [
    "3. What is a class in Python?\n",
    "Ans-n Python, a class is a blueprint for creating objects. A class defines a set of attributes and methods that the created objects (instances of the class) can have. It encapsulates data for the object and functions to manipulate that data. Essentially, a class serves as a template for objects, specifying what data they contain and how they behave."
   ]
  },
  {
   "cell_type": "code",
   "execution_count": null,
   "id": "3f5a46db-cfb0-44a4-accd-25de985a230a",
   "metadata": {},
   "outputs": [],
   "source": [
    "4. What are attributes and methods in a class?\n",
    "Ans-In a class, attributes and methods are fundamental components that define the properties and behaviors of the objects created from the class.\n",
    "\n",
    "Attributes are variables that belong to an object. They represent the state or properties of the object. Attributes are defined in the class and are typically initialized in the __init__ method."
   ]
  },
  {
   "cell_type": "code",
   "execution_count": null,
   "id": "d2da389e-c6aa-4afe-82df-e331c1036033",
   "metadata": {},
   "outputs": [],
   "source": [
    "5. What is the difference between class variables and instance variables in Python?\n",
    "Ans-In Python, class variables and instance variables are used to store data, but they differ in their scope and usage.\n",
    "\n",
    "Instance Variables\n",
    "Instance variables are variables that are specific to each object (instance) of a class. They are defined within methods (usually the __init__ method) and are prefixed with self to indicate that they belong to the instance.\n",
    "\n",
    "Scope: Specific to the object.\n",
    "Storage: Each object has its own copy.\n",
    "Usage: Used to maintain state or data that is unique to each object.\n",
    "\n",
    "Class Variables\n",
    "Class variables are variables that are shared among all instances of a class. They are defined within the class but outside any instance methods. Class variables are prefixed with the class name or accessed using the self keyword.\n",
    "\n",
    "Scope: Shared across all instances of the class.\n",
    "Storage: There is only one copy of a class variable, which is shared by all objects.\n",
    "Usage: Used to maintain data that should be consistent across all instances."
   ]
  },
  {
   "cell_type": "code",
   "execution_count": null,
   "id": "9b1d3519-4a3f-4883-80b6-f4228a95c892",
   "metadata": {},
   "outputs": [],
   "source": [
    "6. What is the purpose of the self parameter in Python class methods?\n",
    "Ans-The self parameter in Python class methods is a reference to the instance of the class that is calling the method. It allows access to the instance's attributes and other methods from within the class. The self parameter is essential for differentiating between class attributes (shared across all instances) and instance attributes (unique to each instance)."
   ]
  },
  {
   "cell_type": "code",
   "execution_count": 3,
   "id": "56b38b1d-3078-484d-8925-527ba4041957",
   "metadata": {},
   "outputs": [
    {
     "name": "stdout",
     "output_type": "stream",
     "text": [
      "Title: Why Bharat Matters\n",
      "Author: Subrahmanyam Jaishankar\n",
      "ISBN: 9357027602\n",
      "Publication Year: 2024\n",
      "Available Copies: 5\n",
      "One copy of 'Why Bharat Matters' checked out. 4 copies remaining.\n",
      "One copy of 'Why Bharat Matters' returned. 5 copies now available.\n"
     ]
    }
   ],
   "source": [
    "class Book:\n",
    "    def __init__(self, title, author, isbn, publication_year, available_copies):\n",
    "        self.title = title\n",
    "        self.author = author\n",
    "        self.isbn = isbn\n",
    "        self.publication_year = publication_year\n",
    "        self.available_copies = available_copies\n",
    "\n",
    "    def check_out(self):\n",
    "        if self.available_copies > 0:\n",
    "            self.available_copies -= 1\n",
    "            print(f\"One copy of '{self.title}' checked out. {self.available_copies} copies remaining.\")\n",
    "        else:\n",
    "            print(f\"No copies of '{self.title}' are available for checkout.\")\n",
    "\n",
    "    def return_book(self):\n",
    "        self.available_copies += 1\n",
    "        print(f\"One copy of '{self.title}' returned. {self.available_copies} copies now available.\")\n",
    "\n",
    "    def display_book_info(self):\n",
    "        print(f\"Title: {self.title}\")\n",
    "        print(f\"Author: {self.author}\")\n",
    "        print(f\"ISBN: {self.isbn}\")\n",
    "        print(f\"Publication Year: {self.publication_year}\")\n",
    "        print(f\"Available Copies: {self.available_copies}\")\n",
    "\n",
    "# Example usage:\n",
    "book1 = Book(\"Why Bharat Matters\", \"Subrahmanyam Jaishankar\", \"9357027602\", 2024, 5)\n",
    "\n",
    "book1.display_book_info()\n",
    "book1.check_out()\n",
    "book1.return_book()\n"
   ]
  },
  {
   "cell_type": "code",
   "execution_count": 12,
   "id": "c54d7d75-f9d0-4278-a996-1f0178b3142d",
   "metadata": {},
   "outputs": [
    {
     "name": "stdout",
     "output_type": "stream",
     "text": [
      "Ticket ID: 101\n",
      "Event Name: Concert\n",
      "Event Date: 2024-08-15\n",
      "Venue: Stadium\n",
      "Seat Number: A12\n",
      "Price: 10000.00\n",
      "Reserved: No\n",
      "Ticket 101 for 'Concert' has been reserved.\n",
      "Reservation for ticket 101 for 'Concert' has been canceled.\n"
     ]
    }
   ],
   "source": [
    "class Ticket:\n",
    "    def __init__(self, ticket_id, event_name, event_date, venue, seat_number, price):\n",
    "        self.ticket_id = ticket_id\n",
    "        self.event_name = event_name\n",
    "        self.event_date = event_date\n",
    "        self.venue = venue\n",
    "        self.seat_number = seat_number\n",
    "        self.price = price\n",
    "        self.is_reserved = False\n",
    "\n",
    "    def reserve_ticket(self):\n",
    "        if not self.is_reserved:\n",
    "            self.is_reserved = True\n",
    "            print(f\"Ticket {self.ticket_id} for '{self.event_name}' has been reserved.\")\n",
    "        else:\n",
    "            print(f\"Ticket {self.ticket_id} for '{self.event_name}' is already reserved.\")\n",
    "\n",
    "    def cancel_reservation(self):\n",
    "        if self.is_reserved:\n",
    "            self.is_reserved = False\n",
    "            print(f\"Reservation for ticket {self.ticket_id} for '{self.event_name}' has been canceled.\")\n",
    "        else:\n",
    "            print(f\"Ticket {self.ticket_id} for '{self.event_name}' is not reserved.\")\n",
    "\n",
    "    def display_ticket_info(self):\n",
    "        print(f\"Ticket ID: {self.ticket_id}\")\n",
    "        print(f\"Event Name: {self.event_name}\")\n",
    "        print(f\"Event Date: {self.event_date}\")\n",
    "        print(f\"Venue: {self.venue}\")\n",
    "        print(f\"Seat Number: {self.seat_number}\")\n",
    "        print(f\"Price: {self.price:.2f}\")\n",
    "        print(f\"Reserved: {'Yes' if self.is_reserved else 'No'}\")\n",
    "\n",
    "# Example usage:\n",
    "ticket1 = Ticket(101, \"Concert\", \"2024-08-15\", \"Stadium\", \"A12\", 10000)\n",
    "\n",
    "ticket1.display_ticket_info()\n",
    "ticket1.reserve_ticket()\n",
    "ticket1.cancel_reservation()\n"
   ]
  },
  {
   "cell_type": "code",
   "execution_count": 14,
   "id": "d115da70-272f-4e9d-8210-bcf8006208e5",
   "metadata": {},
   "outputs": [
    {
     "name": "stdout",
     "output_type": "stream",
     "text": [
      "'Laptop' has been added to the shopping cart.\n",
      "'Headphones' has been added to the shopping cart.\n",
      "Items in your shopping cart:\n",
      "- Laptop\n",
      "- Headphones\n",
      "'Headphones' has been removed from the shopping cart.\n",
      "Items in your shopping cart:\n",
      "- Laptop\n",
      "The shopping cart has been cleared.\n",
      "Your shopping cart is empty.\n"
     ]
    }
   ],
   "source": [
    "class ShoppingCart:\n",
    "    def __init__(self):\n",
    "        self.items = []\n",
    "\n",
    "    def add_item(self, item):\n",
    "        self.items.append(item)\n",
    "        print(f\"'{item}' has been added to the shopping cart.\")\n",
    "\n",
    "    def remove_item(self, item):\n",
    "        if item in self.items:\n",
    "            self.items.remove(item)\n",
    "            print(f\"'{item}' has been removed from the shopping cart.\")\n",
    "        else:\n",
    "            print(f\"'{item}' is not in the shopping cart.\")\n",
    "\n",
    "    def view_cart(self):\n",
    "        if self.items:\n",
    "            print(\"Items in your shopping cart:\")\n",
    "            for item in self.items:\n",
    "                print(f\"- {item}\")\n",
    "        else:\n",
    "            print(\"Your shopping cart is empty.\")\n",
    "\n",
    "    def clear_cart(self):\n",
    "        self.items = []\n",
    "        print(\"The shopping cart has been cleared.\")\n",
    "\n",
    "# Example usage:\n",
    "cart = ShoppingCart()\n",
    "\n",
    "cart.add_item(\"Laptop\")\n",
    "cart.add_item(\"Headphones\")\n",
    "cart.view_cart()\n",
    "cart.remove_item(\"Headphones\")\n",
    "cart.view_cart()\n",
    "cart.clear_cart()\n",
    "cart.view_cart()\n"
   ]
  },
  {
   "cell_type": "markdown",
   "id": "4d7d5376-8a99-44d3-83b3-949f41cbf4de",
   "metadata": {},
   "source": [
    "class Student:\n",
    "    def __init__(self, name, age, grade, student_id):\n",
    "        self.name = name\n",
    "        self.age = age\n",
    "        self.grade = grade\n",
    "        self.student_id = student_id\n",
    "        self.attendance = {}\n",
    "\n",
    "    def update_attendance(self, date, status):\n",
    "        self.attendance[date] = status\n",
    "        print(f\"Attendance for {self.name} on {date} has been updated to '{status}'.\")\n",
    "\n",
    "    def get_attendance(self):\n",
    "        return self.attendance\n",
    "\n",
    "    def get_average_attendance(self):\n",
    "        total_days = len(self.attendance)\n",
    "        if total_days == 0:\n",
    "            return 0.0\n",
    "        present_days = sum(1 for status in self.attendance.values() if status.lower() == 'present')\n",
    "        average_attendance = (present_days / total_days) * 100\n",
    "        return average_attendance\n",
    "\n",
    "# Example usage:\n",
    "student1 = Student(\"Abhilipsa\", 22, \"MCA\", \"2370007\")\n",
    "\n",
    "student1.update_attendance(\"2024-06-01\", \"present\")\n",
    "student1.update_attendance(\"2024-06-02\", \"absent\")\n",
    "student1.update_attendance(\"2024-06-03\", \"present\")\n",
    "\n",
    "print(f\"Attendance Record for {student1.name}: {student1.get_attendance()}\")\n",
    "print(f\"Average Attendance for {student1.name}: {student1.get_average_attendance():.2f}%\")\n"
   ]
  }
 ],
 "metadata": {
  "kernelspec": {
   "display_name": "Python 3 (ipykernel)",
   "language": "python",
   "name": "python3"
  },
  "language_info": {
   "codemirror_mode": {
    "name": "ipython",
    "version": 3
   },
   "file_extension": ".py",
   "mimetype": "text/x-python",
   "name": "python",
   "nbconvert_exporter": "python",
   "pygments_lexer": "ipython3",
   "version": "3.12.4"
  }
 },
 "nbformat": 4,
 "nbformat_minor": 5
}
